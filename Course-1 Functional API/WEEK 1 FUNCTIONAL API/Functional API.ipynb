{
 "cells": [
  {
   "cell_type": "markdown",
   "metadata": {},
   "source": [
    "# Ungraded Lab: Practice with the Keras Functional API\n",
    "\n",
    "This lab will demonstrate how to build models with the Functional syntax. You'll build one using the Sequential API and see how you can do the same with the Functional API. Both will arrive at the same architecture and you can train and evaluate it as usual."
   ]
  },
  {
   "cell_type": "markdown",
   "metadata": {},
   "source": [
    "## Imports"
   ]
  },
  {
   "cell_type": "code",
   "execution_count": null,
   "metadata": {},
   "outputs": [],
   "source": [
    "try:\n",
    "  # %tensorflow_version only exists in Colab.\n",
    "  %tensorflow_version 2.x\n",
    "except Exception:\n",
    "  pass\n",
    "\n",
    "import tensorflow as tf\n",
    "from tensorflow.python.keras.utils.vis_utils import plot_model\n",
    "import pydot\n",
    "from tensorflow.keras.models import Model"
   ]
  },
  {
   "cell_type": "markdown",
   "metadata": {},
   "source": [
    "## Sequential API\n",
    "\n",
    "Here is how we use the `Sequential()` class to build a model."
   ]
  },
  {
   "cell_type": "code",
   "execution_count": null,
   "metadata": {},
   "outputs": [],
   "source": [
    "def build_model_with_sequential():\n",
    "    \n",
    "    # instantiate a Sequential class and linearly stack the layers of your model\n",
    "    seq_model = tf.keras.models.Sequential([tf.keras.layers.Flatten(input_shape=(28, 28)),\n",
    "                                            tf.keras.layers.Dense(128, activation=tf.nn.relu),\n",
    "                                            tf.keras.layers.Dense(10, activation=tf.nn.softmax)])\n",
    "    return seq_model"
   ]
  },
  {
   "cell_type": "markdown",
   "metadata": {},
   "source": [
    "## Functional API\n",
    "\n",
    "And here is how you build the same model above with the functional syntax."
   ]
  },
  {
   "cell_type": "code",
   "execution_count": null,
   "metadata": {},
   "outputs": [],
   "source": [
    "def build_model_with_functional():\n",
    "    \n",
    "    # instantiate the input Tensor\n",
    "    input_layer = tf.keras.Input(shape=(28, 28))\n",
    "    \n",
    "    # stack the layers using the syntax: new_layer()(previous_layer)\n",
    "    flatten_layer = tf.keras.layers.Flatten()(input_layer)\n",
    "    first_dense = tf.keras.layers.Dense(128, activation=tf.nn.relu)(flatten_layer)\n",
    "    output_layer = tf.keras.layers.Dense(10, activation=tf.nn.softmax)(first_dense)\n",
    "    \n",
    "    # declare inputs and outputs\n",
    "    func_model = Model(inputs=input_layer, outputs=output_layer)\n",
    "    \n",
    "    return func_model"
   ]
  },
  {
   "cell_type": "markdown",
   "metadata": {},
   "source": [
    "## Build the model and visualize the model graph"
   ]
  },
  {
   "cell_type": "markdown",
   "metadata": {},
   "source": [
    "You can choose how to build your model below. Just uncomment which function you'd like to use. You'll notice that the plot will look the same."
   ]
  },
  {
   "cell_type": "code",
   "execution_count": null,
   "metadata": {},
   "outputs": [],
   "source": [
    "model = build_model_with_functional()\n",
    "#model = build_model_with_sequential()\n",
    "\n",
    "# Plot model graph\n",
    "plot_model(model, show_shapes=True, show_layer_names=True, to_file='model.png')"
   ]
  },
  {
   "cell_type": "markdown",
   "metadata": {},
   "source": [
    "## Training the model\n",
    "\n",
    "Regardless if you built it with the Sequential or Functional API, you'll follow the same steps when training and evaluating your model."
   ]
  },
  {
   "cell_type": "code",
   "execution_count": null,
   "metadata": {},
   "outputs": [],
   "source": [
    "# prepare fashion mnist dataset\n",
    "mnist = tf.keras.datasets.fashion_mnist\n",
    "(training_images, training_labels), (test_images, test_labels) = mnist.load_data()\n",
    "training_images = training_images / 255.0\n",
    "test_images = test_images / 255.0\n",
    "\n",
    "# configure, train, and evaluate the model\n",
    "model.compile(optimizer=tf.optimizers.Adam(),\n",
    "              loss='sparse_categorical_crossentropy',\n",
    "              metrics=['accuracy'])\n",
    "model.fit(training_images, training_labels, epochs=5)\n",
    "model.evaluate(test_images, test_labels)"
   ]
  },
  {
   "cell_type": "markdown",
   "metadata": {},
   "source": [
    "# THE END"
   ]
  },
  {
   "cell_type": "markdown",
   "metadata": {},
   "source": [
    "## Above notebook is provided by the Coursera and now I'm going to practice it below "
   ]
  },
  {
   "cell_type": "code",
   "execution_count": 1,
   "metadata": {},
   "outputs": [],
   "source": [
    "import tensorflow as tf"
   ]
  },
  {
   "cell_type": "code",
   "execution_count": 2,
   "metadata": {},
   "outputs": [],
   "source": [
    "import keras"
   ]
  },
  {
   "cell_type": "code",
   "execution_count": 6,
   "metadata": {},
   "outputs": [],
   "source": [
    "# How we code in Sequential Model by using Sequential Class which is already defined in tf.keras.models.Sequential\n",
    "# NOTE- we are considering MNIST dataset that's y using 28,28 as the input layer\n",
    "def build_with_sequential_model():\n",
    "    \n",
    "    seq_model = tf.keras.models.Sequential([\n",
    "    \n",
    "    tf.keras.layers.flatten(input_shape=(28,28)),\n",
    "    tf.keras.layers.dense(128, activation = 'relu'),\n",
    "    tf.keras.layers.dense(10, acitvation = 'softmax')\n",
    "])\n",
    "\n",
    "    return seq_model"
   ]
  },
  {
   "cell_type": "markdown",
   "metadata": {},
   "source": [
    "Below we are going to implement the same sequential model by using Functional API but not using Sequnetial class which is already defined\n"
   ]
  },
  {
   "cell_type": "code",
   "execution_count": 23,
   "metadata": {},
   "outputs": [],
   "source": [
    "from tensorflow.keras.models import Model"
   ]
  },
  {
   "cell_type": "code",
   "execution_count": 26,
   "metadata": {},
   "outputs": [],
   "source": [
    "def build_model_with_functional_api():\n",
    "    \n",
    "    #Defining Input Layer\n",
    "    \n",
    "    input_layer = tf.keras.Input(shape=(28,28))\n",
    "    \n",
    "    #Defining layers\n",
    "    x = tf.keras.layers.Flatten()(input_layer)\n",
    "    x = tf.keras.layers.Dense(128, activation='relu')(x)\n",
    "    prediction = tf.keras.layers.Dense(10, activation='softmax')(x)\n",
    "    \n",
    "    #Defining Model\n",
    "    func_model = Model(inputs=input_layer, outputs=prediction)\n",
    "    \n",
    "    return func_model    "
   ]
  },
  {
   "cell_type": "markdown",
   "metadata": {},
   "source": [
    "Test this functional api model on MNIST dataset"
   ]
  },
  {
   "cell_type": "code",
   "execution_count": 27,
   "metadata": {},
   "outputs": [],
   "source": [
    "func_model =  build_model_with_functional_api()"
   ]
  },
  {
   "cell_type": "code",
   "execution_count": 29,
   "metadata": {},
   "outputs": [
    {
     "name": "stdout",
     "output_type": "stream",
     "text": [
      "Epoch 1/5\n",
      "1875/1875 [==============================] - 3s 825us/step - loss: 0.6162 - accuracy: 0.7874\n",
      "Epoch 2/5\n",
      "1875/1875 [==============================] - 2s 803us/step - loss: 0.3905 - accuracy: 0.8596\n",
      "Epoch 3/5\n",
      "1875/1875 [==============================] - 1s 714us/step - loss: 0.3508 - accuracy: 0.8717\n",
      "Epoch 4/5\n",
      "1875/1875 [==============================] - 1s 719us/step - loss: 0.3167 - accuracy: 0.8822\n",
      "Epoch 5/5\n",
      "1875/1875 [==============================] - 1s 722us/step - loss: 0.2954 - accuracy: 0.8911\n",
      "313/313 [==============================] - 0s 643us/step - loss: 0.3438 - accuracy: 0.8757\n"
     ]
    },
    {
     "data": {
      "text/plain": [
       "[0.3438326120376587, 0.8756999969482422]"
      ]
     },
     "execution_count": 29,
     "metadata": {},
     "output_type": "execute_result"
    }
   ],
   "source": [
    "# Prepare Fashion MNIST Dataset\n",
    "mnist = tf.keras.datasets.fashion_mnist\n",
    "(training_images, training_labels), (test_images, test_labels) = mnist.load_data()\n",
    "training_images = training_images/255.0\n",
    "test_images=test_images/255.0\n",
    "\n",
    "# Training and evaluating the model on above prepared mnist dataset\n",
    "# We'll be using the functional API model which we have defined above in the form of 'model'\n",
    "func_model.compile(optimizer=tf.keras.optimizers.Adam(),\n",
    "              loss = 'sparse_categorical_crossentropy',\n",
    "              metrics = ['accuracy'])\n",
    "\n",
    "func_model.fit (training_images, training_labels, epochs=5)\n",
    "\n",
    "func_model.evaluate(test_images, test_labels)"
   ]
  },
  {
   "cell_type": "code",
   "execution_count": 30,
   "metadata": {},
   "outputs": [
    {
     "name": "stdout",
     "output_type": "stream",
     "text": [
      "Epoch 1/10\n",
      "1875/1875 [==============================] - 2s 749us/step - loss: 0.2817 - accuracy: 0.8946\n",
      "Epoch 2/10\n",
      "1875/1875 [==============================] - 1s 760us/step - loss: 0.2690 - accuracy: 0.9008\n",
      "Epoch 3/10\n",
      "1875/1875 [==============================] - 2s 818us/step - loss: 0.2537 - accuracy: 0.9043\n",
      "Epoch 4/10\n",
      "1875/1875 [==============================] - 1s 737us/step - loss: 0.2472 - accuracy: 0.9082\n",
      "Epoch 5/10\n",
      "1875/1875 [==============================] - 1s 739us/step - loss: 0.2359 - accuracy: 0.9098\n",
      "Epoch 6/10\n",
      "1875/1875 [==============================] - 1s 751us/step - loss: 0.2301 - accuracy: 0.9131\n",
      "Epoch 7/10\n",
      "1875/1875 [==============================] - 1s 755us/step - loss: 0.2275 - accuracy: 0.9136\n",
      "Epoch 8/10\n",
      "1875/1875 [==============================] - 1s 749us/step - loss: 0.2146 - accuracy: 0.9205\n",
      "Epoch 9/10\n",
      "1875/1875 [==============================] - 1s 784us/step - loss: 0.2063 - accuracy: 0.9227\n",
      "Epoch 10/10\n",
      "1875/1875 [==============================] - 1s 749us/step - loss: 0.2050 - accuracy: 0.9245\n",
      "313/313 [==============================] - 0s 602us/step - loss: 0.3520 - accuracy: 0.8848\n"
     ]
    },
    {
     "data": {
      "text/plain": [
       "[0.352039635181427, 0.8848000168800354]"
      ]
     },
     "execution_count": 30,
     "metadata": {},
     "output_type": "execute_result"
    }
   ],
   "source": [
    "# Let's re run the above code for 10 epochs \n",
    "\n",
    "# Prepare Fashion MNIST Dataset\n",
    "mnist = tf.keras.datasets.fashion_mnist\n",
    "(training_images, training_labels), (test_images, test_labels) = mnist.load_data()\n",
    "training_images = training_images/255.0\n",
    "test_images=test_images/255.0\n",
    "\n",
    "# Training and evaluating the model on above prepared mnist dataset\n",
    "# We'll be using the functional API model which we have defined above in the form of 'model'\n",
    "func_model.compile(optimizer=tf.keras.optimizers.Adam(),\n",
    "              loss = 'sparse_categorical_crossentropy',\n",
    "              metrics = ['accuracy'])\n",
    "\n",
    "func_model.fit (training_images, training_labels, epochs=10)\n",
    "\n",
    "func_model.evaluate(test_images, test_labels)"
   ]
  },
  {
   "cell_type": "code",
   "execution_count": 31,
   "metadata": {},
   "outputs": [
    {
     "name": "stdout",
     "output_type": "stream",
     "text": [
      "Epoch 1/20\n",
      "1875/1875 [==============================] - 2s 747us/step - loss: 0.1978 - accuracy: 0.9259\n",
      "Epoch 2/20\n",
      "1875/1875 [==============================] - 1s 731us/step - loss: 0.1886 - accuracy: 0.9286\n",
      "Epoch 3/20\n",
      "1875/1875 [==============================] - 1s 747us/step - loss: 0.1881 - accuracy: 0.9292\n",
      "Epoch 4/20\n",
      "1875/1875 [==============================] - 1s 756us/step - loss: 0.1833 - accuracy: 0.9315\n",
      "Epoch 5/20\n",
      "1875/1875 [==============================] - 1s 774us/step - loss: 0.1788 - accuracy: 0.9328\n",
      "Epoch 6/20\n",
      "1875/1875 [==============================] - 1s 750us/step - loss: 0.1733 - accuracy: 0.9346\n",
      "Epoch 7/20\n",
      "1875/1875 [==============================] - 1s 742us/step - loss: 0.1717 - accuracy: 0.9352\n",
      "Epoch 8/20\n",
      "1875/1875 [==============================] - 1s 762us/step - loss: 0.1616 - accuracy: 0.9399\n",
      "Epoch 9/20\n",
      "1875/1875 [==============================] - 1s 753us/step - loss: 0.1612 - accuracy: 0.9391\n",
      "Epoch 10/20\n",
      "1875/1875 [==============================] - 1s 751us/step - loss: 0.1567 - accuracy: 0.9405\n",
      "Epoch 11/20\n",
      "1875/1875 [==============================] - 1s 779us/step - loss: 0.1548 - accuracy: 0.9426\n",
      "Epoch 12/20\n",
      "1875/1875 [==============================] - 1s 748us/step - loss: 0.1540 - accuracy: 0.9428\n",
      "Epoch 13/20\n",
      "1875/1875 [==============================] - 1s 765us/step - loss: 0.1491 - accuracy: 0.9443\n",
      "Epoch 14/20\n",
      "1875/1875 [==============================] - 1s 758us/step - loss: 0.1444 - accuracy: 0.9450\n",
      "Epoch 15/20\n",
      "1875/1875 [==============================] - 1s 730us/step - loss: 0.1415 - accuracy: 0.9470\n",
      "Epoch 16/20\n",
      "1875/1875 [==============================] - 1s 748us/step - loss: 0.1385 - accuracy: 0.9482\n",
      "Epoch 17/20\n",
      "1875/1875 [==============================] - 1s 734us/step - loss: 0.1330 - accuracy: 0.9489\n",
      "Epoch 18/20\n",
      "1875/1875 [==============================] - 1s 731us/step - loss: 0.1321 - accuracy: 0.9505\n",
      "Epoch 19/20\n",
      "1875/1875 [==============================] - 1s 728us/step - loss: 0.1339 - accuracy: 0.9506\n",
      "Epoch 20/20\n",
      "1875/1875 [==============================] - 1s 773us/step - loss: 0.1290 - accuracy: 0.9506\n",
      "313/313 [==============================] - 0s 587us/step - loss: 0.4471 - accuracy: 0.8817\n"
     ]
    },
    {
     "data": {
      "text/plain": [
       "[0.44714877009391785, 0.8816999793052673]"
      ]
     },
     "execution_count": 31,
     "metadata": {},
     "output_type": "execute_result"
    }
   ],
   "source": [
    "# Let's re run the above code for 20 epochs \n",
    "\n",
    "# Prepare Fashion MNIST Dataset\n",
    "mnist = tf.keras.datasets.fashion_mnist\n",
    "(training_images, training_labels), (test_images, test_labels) = mnist.load_data()\n",
    "training_images = training_images/255.0\n",
    "test_images=test_images/255.0\n",
    "\n",
    "# Training and evaluating the model on above prepared mnist dataset\n",
    "# We'll be using the functional API model which we have defined above in the form of 'model'\n",
    "func_model.compile(optimizer=tf.keras.optimizers.Adam(),\n",
    "              loss = 'sparse_categorical_crossentropy',\n",
    "              metrics = ['accuracy'])\n",
    "\n",
    "func_model.fit (training_images, training_labels, epochs=20)\n",
    "\n",
    "func_model.evaluate(test_images, test_labels)"
   ]
  },
  {
   "cell_type": "code",
   "execution_count": null,
   "metadata": {},
   "outputs": [],
   "source": []
  }
 ],
 "metadata": {
  "kernelspec": {
   "display_name": "Python 3",
   "language": "python",
   "name": "python3"
  },
  "language_info": {
   "codemirror_mode": {
    "name": "ipython",
    "version": 3
   },
   "file_extension": ".py",
   "mimetype": "text/x-python",
   "name": "python",
   "nbconvert_exporter": "python",
   "pygments_lexer": "ipython3",
   "version": "3.8.5"
  }
 },
 "nbformat": 4,
 "nbformat_minor": 4
}
